{
 "cells": [
  {
   "cell_type": "code",
   "execution_count": 455,
   "metadata": {},
   "outputs": [],
   "source": [
    "from sdv.datasets.local import load_csvs\n",
    "\n",
    "\n",
    "datasets = load_csvs(folder_name='ds3/')"
   ]
  },
  {
   "cell_type": "code",
   "execution_count": 456,
   "metadata": {},
   "outputs": [
    {
     "data": {
      "text/plain": [
       "{'Address':           lexid   street_name          city state    zip\n",
       " 0    8888090530      Prentice      Columbia    MO  65218\n",
       " 1    8888090531      Talmadge     Rochester    NY  14652\n",
       " 2    8888090532           3rd       Raleigh    NC  27690\n",
       " 3    8888090533  Glacier Hill    Greensboro    NC  27425\n",
       " 4    8888090534        Summit     Waterbury    CT   6705\n",
       " ..          ...           ...           ...   ...    ...\n",
       " 495  8888091025      Beilfuss  Jacksonville    FL  32259\n",
       " 496  8888091026        Buhler   Chattanooga    TN  37450\n",
       " 497  8888091027     Heffernan    Lake Worth    FL  33462\n",
       " 498  8888091028        Fordem       El Paso    TX  79955\n",
       " 499  8888091029        Luster    Washington    DC  20041\n",
       " \n",
       " [500 rows x 5 columns],\n",
       " 'Auto':           lexid                vin state\n",
       " 0    8888090530  3GYVKMEF3AG838180    KS\n",
       " 1    8888090531  2C3CCAJG0DH720555    IN\n",
       " 2    8888090532  2T1KE4EE0BC703497    KS\n",
       " 3    8888090533  KMHGC4DE5BU857408    TX\n",
       " 4    8888090534  JN8AZ2NC4C9893335    OH\n",
       " ..          ...                ...   ...\n",
       " 495  8888091025  3D73Y4HL3BG304598    TX\n",
       " 496  8888091026  WAUMGBFL5BA994438    CA\n",
       " 497  8888091027  JH4DC53043C567752    MA\n",
       " 498  8888091028  WVWED7AJXAW449159    FL\n",
       " 499  8888091029  2FMGK5DC7AB841865    NC\n",
       " \n",
       " [500 rows x 3 columns],\n",
       " 'Names':           lexid first_name   last_name          ssn         dob  age  gender\n",
       " 0    8888090530     Rhodia  Gossington  114-52-2474  1994-02-13   29  Female\n",
       " 1    8888090531    Wheeler      Dugald  487-63-5212  1978-04-14   45    Male\n",
       " 2    8888090532      Prent      Pinkie  821-33-1231  2004-02-03   19    Male\n",
       " 3    8888090533    Belicia     Goodwyn  334-97-4301  1952-03-28   71  Female\n",
       " 4    8888090534   Davidson     Lammers  114-49-2652  1940-07-26   83    Male\n",
       " ..          ...        ...         ...          ...         ...  ...     ...\n",
       " 495  8888091025        Vin      Dafter  532-05-2961  1990-03-24   33    Male\n",
       " 496  8888091026      Gavra  Hursthouse  284-05-7694  2005-11-09   18  Female\n",
       " 497  8888091027     Weylin       Asken  789-62-9390  1957-05-12   66    Male\n",
       " 498  8888091028    Jeramey     Tuckley  558-94-2749  1951-02-15   72    Male\n",
       " 499  8888091029     Jo-ann    Parncutt  719-96-2431  1949-12-21   74  Female\n",
       " \n",
       " [500 rows x 7 columns]}"
      ]
     },
     "execution_count": 456,
     "metadata": {},
     "output_type": "execute_result"
    }
   ],
   "source": [
    "datasets"
   ]
  },
  {
   "cell_type": "code",
   "execution_count": 422,
   "metadata": {},
   "outputs": [],
   "source": [
    "from sdv.metadata import MultiTableMetadata\n",
    "\n",
    "metadata = MultiTableMetadata()"
   ]
  },
  {
   "cell_type": "code",
   "execution_count": 423,
   "metadata": {},
   "outputs": [],
   "source": [
    "metadata.detect_from_csvs(\n",
    "    folder_name='ds3/'\n",
    ")\n",
    "metadata.lo"
   ]
  },
  {
   "cell_type": "code",
   "execution_count": 424,
   "metadata": {},
   "outputs": [
    {
     "data": {
      "text/plain": [
       "{\n",
       "    \"tables\": {\n",
       "        \"Address\": {\n",
       "            \"columns\": {\n",
       "                \"lexid\": {\n",
       "                    \"sdtype\": \"numerical\"\n",
       "                },\n",
       "                \"street_name\": {\n",
       "                    \"sdtype\": \"categorical\"\n",
       "                },\n",
       "                \"city\": {\n",
       "                    \"sdtype\": \"categorical\"\n",
       "                },\n",
       "                \"state\": {\n",
       "                    \"sdtype\": \"categorical\"\n",
       "                },\n",
       "                \"zip\": {\n",
       "                    \"sdtype\": \"numerical\"\n",
       "                }\n",
       "            }\n",
       "        },\n",
       "        \"Auto\": {\n",
       "            \"columns\": {\n",
       "                \"lexid\": {\n",
       "                    \"sdtype\": \"numerical\"\n",
       "                },\n",
       "                \"vin\": {\n",
       "                    \"sdtype\": \"categorical\"\n",
       "                },\n",
       "                \"state\": {\n",
       "                    \"sdtype\": \"categorical\"\n",
       "                }\n",
       "            }\n",
       "        },\n",
       "        \"Names\": {\n",
       "            \"columns\": {\n",
       "                \"lexid\": {\n",
       "                    \"sdtype\": \"numerical\"\n",
       "                },\n",
       "                \"first_name\": {\n",
       "                    \"sdtype\": \"categorical\"\n",
       "                },\n",
       "                \"last_name\": {\n",
       "                    \"sdtype\": \"categorical\"\n",
       "                },\n",
       "                \"ssn\": {\n",
       "                    \"sdtype\": \"categorical\"\n",
       "                },\n",
       "                \"dob\": {\n",
       "                    \"sdtype\": \"categorical\"\n",
       "                },\n",
       "                \"age\": {\n",
       "                    \"sdtype\": \"numerical\"\n",
       "                },\n",
       "                \"gender\": {\n",
       "                    \"sdtype\": \"categorical\"\n",
       "                }\n",
       "            }\n",
       "        }\n",
       "    },\n",
       "    \"relationships\": [],\n",
       "    \"METADATA_SPEC_VERSION\": \"MULTI_TABLE_V1\"\n",
       "}"
      ]
     },
     "execution_count": 424,
     "metadata": {},
     "output_type": "execute_result"
    }
   ],
   "source": [
    "metadata"
   ]
  },
  {
   "cell_type": "code",
   "execution_count": 425,
   "metadata": {},
   "outputs": [],
   "source": [
    "metadata.update_column(\n",
    "    table_name = \"Address\",\n",
    "    column_name = \"lexid\",\n",
    "    sdtype = \"id\",\n",
    "    regex_format = '^[0-9]{12}$'\n",
    ")"
   ]
  },
  {
   "cell_type": "code",
   "execution_count": 427,
   "metadata": {},
   "outputs": [],
   "source": [
    "metadata.update_column(\n",
    "    table_name = \"Address\",\n",
    "    column_name = \"street_name\",\n",
    "    sdtype = \"street_address\",\n",
    "    pii = True\n",
    ")"
   ]
  },
  {
   "cell_type": "code",
   "execution_count": 428,
   "metadata": {},
   "outputs": [],
   "source": [
    "metadata.update_column(\n",
    "    table_name = \"Address\",\n",
    "    column_name = \"city\",\n",
    "    sdtype = \"city\",\n",
    "    pii = True\n",
    ")"
   ]
  },
  {
   "cell_type": "code",
   "execution_count": 429,
   "metadata": {},
   "outputs": [],
   "source": [
    "metadata.update_column(\n",
    "    table_name = \"Address\",\n",
    "    column_name = \"state\",\n",
    "    sdtype = \"country_code\",\n",
    "    pii = True\n",
    ")"
   ]
  },
  {
   "cell_type": "code",
   "execution_count": 430,
   "metadata": {},
   "outputs": [],
   "source": [
    "metadata.update_column(\n",
    "    table_name = \"Address\",\n",
    "    column_name = \"zip\",\n",
    "    sdtype = \"postcode\",\n",
    "    pii = True\n",
    ")"
   ]
  },
  {
   "cell_type": "code",
   "execution_count": 431,
   "metadata": {},
   "outputs": [],
   "source": [
    "metadata.update_column(\n",
    "    table_name = \"Auto\",\n",
    "    column_name = \"lexid\",\n",
    "    sdtype = \"id\",\n",
    "    regex_format = '^[0-9]{12}$'\n",
    ")"
   ]
  },
  {
   "cell_type": "code",
   "execution_count": 432,
   "metadata": {},
   "outputs": [],
   "source": [
    "metadata.update_column(\n",
    "    table_name = \"Names\",\n",
    "    column_name = \"lexid\",\n",
    "    sdtype = \"id\",\n",
    "    regex_format = '^[0-9]{12}$'\n",
    ")"
   ]
  },
  {
   "cell_type": "code",
   "execution_count": 433,
   "metadata": {},
   "outputs": [],
   "source": [
    "metadata.update_column(\n",
    "    table_name = \"Names\",\n",
    "    column_name = \"first_name\",\n",
    "    sdtype = \"first_name\",\n",
    "    pii = True\n",
    ")"
   ]
  },
  {
   "cell_type": "code",
   "execution_count": 434,
   "metadata": {},
   "outputs": [],
   "source": [
    "metadata.update_column(\n",
    "    table_name = \"Names\",\n",
    "    column_name = \"last_name\",\n",
    "    sdtype = \"last_name\",\n",
    "    pii = True\n",
    ")"
   ]
  },
  {
   "cell_type": "code",
   "execution_count": 435,
   "metadata": {},
   "outputs": [],
   "source": [
    "metadata.update_column(\n",
    "    table_name = \"Names\",\n",
    "    column_name = \"ssn\",\n",
    "    sdtype = \"ssn\",\n",
    "    pii = True\n",
    ")"
   ]
  },
  {
   "cell_type": "code",
   "execution_count": 437,
   "metadata": {},
   "outputs": [],
   "source": [
    "metadata.update_column(\n",
    "    table_name = \"Names\",\n",
    "    column_name = \"dob\",\n",
    "    sdtype = \"datetime\",\n",
    "    datetime_format = \"%Y-%m-%d\"\n",
    ")"
   ]
  },
  {
   "cell_type": "code",
   "execution_count": 438,
   "metadata": {},
   "outputs": [],
   "source": [
    "metadata.set_primary_key(\n",
    "    table_name = \"Names\",\n",
    "    column_name = \"lexid\"\n",
    ")"
   ]
  },
  {
   "cell_type": "code",
   "execution_count": 439,
   "metadata": {},
   "outputs": [],
   "source": [
    "metadata.add_relationship(\n",
    "    parent_table_name=\"Names\",\n",
    "    child_table_name=\"Address\",\n",
    "    parent_primary_key = \"lexid\",\n",
    "    child_foreign_key=\"lexid\"\n",
    ")"
   ]
  },
  {
   "cell_type": "code",
   "execution_count": 440,
   "metadata": {},
   "outputs": [],
   "source": [
    "metadata.add_relationship(\n",
    "    parent_table_name=\"Names\",\n",
    "    child_table_name=\"Auto\",\n",
    "    parent_primary_key = \"lexid\",\n",
    "    child_foreign_key=\"lexid\"\n",
    ")"
   ]
  },
  {
   "cell_type": "code",
   "execution_count": 464,
   "metadata": {},
   "outputs": [
    {
     "data": {
      "text/plain": [
       "{'tables': {'Address': {'columns': {'lexid': {'sdtype': 'id',\n",
       "     'regex_format': '^[0-9]{12}$'},\n",
       "    'street_name': {'sdtype': 'street_address', 'pii': True},\n",
       "    'city': {'sdtype': 'city', 'pii': True},\n",
       "    'state': {'sdtype': 'country_code', 'pii': True},\n",
       "    'zip': {'sdtype': 'postcode', 'pii': True}}},\n",
       "  'Auto': {'columns': {'lexid': {'sdtype': 'id',\n",
       "     'regex_format': '^[0-9]{12}$'},\n",
       "    'vin': {'sdtype': 'categorical'},\n",
       "    'state': {'sdtype': 'categorical'}}},\n",
       "  'Names': {'primary_key': 'lexid',\n",
       "   'columns': {'lexid': {'sdtype': 'id', 'regex_format': '^[0-9]{12}$'},\n",
       "    'first_name': {'sdtype': 'first_name', 'pii': True},\n",
       "    'last_name': {'sdtype': 'last_name', 'pii': True},\n",
       "    'ssn': {'sdtype': 'ssn', 'pii': True},\n",
       "    'dob': {'sdtype': 'datetime', 'datetime_format': '%Y-%m-%d'},\n",
       "    'age': {'sdtype': 'numerical'},\n",
       "    'gender': {'sdtype': 'categorical'}}}},\n",
       " 'relationships': [{'parent_table_name': 'Names',\n",
       "   'child_table_name': 'Address',\n",
       "   'parent_primary_key': 'lexid',\n",
       "   'child_foreign_key': 'lexid'},\n",
       "  {'parent_table_name': 'Names',\n",
       "   'child_table_name': 'Auto',\n",
       "   'parent_primary_key': 'lexid',\n",
       "   'child_foreign_key': 'lexid'}],\n",
       " 'METADATA_SPEC_VERSION': 'MULTI_TABLE_V1'}"
      ]
     },
     "execution_count": 464,
     "metadata": {},
     "output_type": "execute_result"
    }
   ],
   "source": [
    "metadata.to_dict()"
   ]
  },
  {
   "cell_type": "code",
   "execution_count": 452,
   "metadata": {},
   "outputs": [],
   "source": [
    "from sdv.multi_table import HMASynthesizer\n",
    "\n",
    "synthesizer = HMASynthesizer(metadata)\n"
   ]
  },
  {
   "cell_type": "code",
   "execution_count": 453,
   "metadata": {},
   "outputs": [],
   "source": [
    "synthesizer.load_custom_constraint_classes(\n",
    "    filepath='Custom_Constraints_age.py',\n",
    "    class_names=['MatchDOBandAge']\n",
    ")\n",
    "\n",
    "# create constraints using the class\n",
    "\n",
    "# if has_rewards=True, the amenities_fee=0\n",
    "DOBandAge = {\n",
    "    'constraint_class': 'MatchDOBandAge',\n",
    "    'table_name' : 'Names',\n",
    "    'constraint_parameters': {\n",
    "        'column_names': ['dob', 'age'],\n",
    "    }\n",
    "}\n",
    "\n",
    "# apply the constraints to the synthesizer\n",
    "synthesizer.add_constraints([\n",
    "    DOBandAge\n",
    "])"
   ]
  },
  {
   "cell_type": "code",
   "execution_count": 457,
   "metadata": {},
   "outputs": [
    {
     "name": "stderr",
     "output_type": "stream",
     "text": [
      "Preprocess Tables: 100%|██████████| 3/3 [00:01<00:00,  2.09it/s]\n"
     ]
    },
    {
     "name": "stdout",
     "output_type": "stream",
     "text": [
      "\n",
      "Learning relationships:\n"
     ]
    },
    {
     "name": "stderr",
     "output_type": "stream",
     "text": [
      "(1/2) Tables 'Names' and 'Auto' ('lexid'): 100%|██████████| 500/500 [00:03<00:00, 145.98it/s]\n",
      "(2/2) Tables 'Names' and 'Address' ('lexid'): 100%|██████████| 500/500 [00:00<00:00, 1478.41it/s]\n"
     ]
    },
    {
     "name": "stdout",
     "output_type": "stream",
     "text": [
      "\n"
     ]
    },
    {
     "name": "stderr",
     "output_type": "stream",
     "text": [
      "Modeling Tables: 100%|██████████| 1/1 [00:00<00:00,  2.88it/s]\n"
     ]
    }
   ],
   "source": [
    "synthesizer.fit(datasets)\n",
    "synthesized_data = synthesizer.sample(scale=2)\n"
   ]
  },
  {
   "cell_type": "code",
   "execution_count": 458,
   "metadata": {},
   "outputs": [
    {
     "data": {
      "text/plain": [
       "{'Names':      lexid first_name   last_name          ssn         dob  age  gender\n",
       " 0        0      James       Jones  153-80-6198  1996-09-26   27    Male\n",
       " 1        1   Michelle       Curry  739-79-0005  1960-05-05   63    Male\n",
       " 2        2    Barbara       Ortiz  243-81-8687  1980-01-28   43  Female\n",
       " 3        3      James      Lucero  646-97-0698  1964-06-04   59  Female\n",
       " 4        4    Cynthia      Prince  742-47-3309  1958-06-10   65  Female\n",
       " ..     ...        ...         ...          ...         ...  ...     ...\n",
       " 995    995     Lauren    Williams  636-21-0117  1957-02-15   66    Male\n",
       " 996    996     Andrea       Frost  636-12-3017  1986-09-26   37  Female\n",
       " 997    997     Travis  Williamson  518-02-2492  1946-11-02   77    Male\n",
       " 998    998     Joseph       Mason  838-24-0049  1952-05-28   71    Male\n",
       " 999    999    Annette        Hill  243-32-4111  1968-05-14   55  Female\n",
       " \n",
       " [1000 rows x 7 columns],\n",
       " 'Auto':      lexid                vin state\n",
       " 0        0  WDDHF5KB4EA378830    FL\n",
       " 1        1  1GD311CG1FZ616461    GA\n",
       " 2        2  JTHBE1BL8F1842433    OH\n",
       " 3        3  3VW507AT6FM216140    AZ\n",
       " 4        4  5UXFE43548L864214    DC\n",
       " ..     ...                ...   ...\n",
       " 995    995  WAUHFAFL6FN822271    NY\n",
       " 996    996  JH4CL95937C818393    DC\n",
       " 997    997  JN8AZ1MU6CW223341    TX\n",
       " 998    998  WBAVB735X7F830196    NC\n",
       " 999    999  JTMHY7AJ4F4041129    NY\n",
       " \n",
       " [1000 rows x 3 columns],\n",
       " 'Address':      lexid                       street_name                city state    zip\n",
       " 0        0            140 Jason Way Apt. 304       East Annaside    IN  13590\n",
       " 1        1                     303 Lee Plain          North Gina    PY  19595\n",
       " 2        2  5791 Campbell Crossing Suite 313     Lake Joshuabury    NZ  93703\n",
       " 3        3                    0698 Kevin Rue  South Michaelshire    BH  74124\n",
       " 4        4     5275 Michael Center Suite 458        Port Kirsten    MY  74474\n",
       " ..     ...                               ...                 ...   ...    ...\n",
       " 995    995     351 Webster Crescent Apt. 999         Sanchezbury    MA  35692\n",
       " 996    996                 02929 Barry Vista           Amberside    TO   3237\n",
       " 997    997                732 Middleton Oval   East Brittneyland    ET  66407\n",
       " 998    998                 7556 Cruz Squares          North Lisa    JO  91820\n",
       " 999    999        292 Herbert Inlet Apt. 524   West Jonathanside    KP  40715\n",
       " \n",
       " [1000 rows x 5 columns]}"
      ]
     },
     "execution_count": 458,
     "metadata": {},
     "output_type": "execute_result"
    }
   ],
   "source": [
    "synthesized_data"
   ]
  },
  {
   "cell_type": "code",
   "execution_count": 461,
   "metadata": {},
   "outputs": [],
   "source": [
    "synthesized_data['Names'].to_csv('Output/Names.csv')"
   ]
  },
  {
   "cell_type": "code",
   "execution_count": 462,
   "metadata": {},
   "outputs": [],
   "source": [
    "synthesized_data['Address'].to_csv('Output/Address.csv')\n",
    "synthesized_data['Auto'].to_csv('Output/Auto.csv')"
   ]
  },
  {
   "cell_type": "code",
   "execution_count": null,
   "metadata": {},
   "outputs": [],
   "source": [
    "my_constraint = {\n",
    "    'constraint_class': 'ScalarRange',\n",
    "    'table_name': 'Names', # for multi table synthesizers\n",
    "    'constraint_parameters': {\n",
    "        'column_name': 'dob',\n",
    "        'low_value': '1940-01-01',\n",
    "        'high_value': '2010-01-01',\n",
    "        'strict_boundaries': True\n",
    "    }\n",
    "}\n",
    "\n",
    "synthesizer.add_constraints(constraints=[\n",
    "    my_constraint\n",
    "])"
   ]
  }
 ],
 "metadata": {
  "kernelspec": {
   "display_name": "Python 3",
   "language": "python",
   "name": "python3"
  },
  "language_info": {
   "codemirror_mode": {
    "name": "ipython",
    "version": 3
   },
   "file_extension": ".py",
   "mimetype": "text/x-python",
   "name": "python",
   "nbconvert_exporter": "python",
   "pygments_lexer": "ipython3",
   "version": "3.11.0"
  },
  "orig_nbformat": 4
 },
 "nbformat": 4,
 "nbformat_minor": 2
}
