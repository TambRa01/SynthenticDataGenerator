{
 "cells": [
  {
   "cell_type": "code",
   "execution_count": 10,
   "metadata": {},
   "outputs": [],
   "source": [
    "from sdv.datasets.local import load_csvs\n",
    "\n",
    "\n",
    "datasets = load_csvs(folder_name='Datasets/')"
   ]
  },
  {
   "cell_type": "code",
   "execution_count": 11,
   "metadata": {},
   "outputs": [
    {
     "data": {
      "text/plain": [
       "{'MOCK_DATA':           lexid first_name last_name                       email       gender  \\\n",
       " 0    8888090530     Oliver  Sexstone        osexstone0@wufoo.com   Non-binary   \n",
       " 1    8888090531  Guglielmo   Carbine      gcarbine1@amazon.co.uk         Male   \n",
       " 2    8888090532      Arman   Jesteco           ajesteco2@who.int         Male   \n",
       " 3    8888090533     Eileen  Phillins      ephillins3@plala.or.jp  Genderfluid   \n",
       " 4    8888090534     Birgit      Long          blong4@t-online.de       Female   \n",
       " ..          ...        ...       ...                         ...          ...   \n",
       " 995  8888091525      Danny      Mapp           dmapprn@google.ru   Polygender   \n",
       " 996  8888091526    Stavros   Watters  swattersro@cyberchimps.com         Male   \n",
       " 997  8888091527    Eugenio      Bysh                ebyshrp@g.co         Male   \n",
       " 998  8888091528     Morten   Hanmore          mhanmorerq@msu.edu  Genderqueer   \n",
       " 999  8888091529     Peadar     Faers        pfaersrr@archive.org         Male   \n",
       " \n",
       "           address  \n",
       " 0        Apt 1125  \n",
       " 1       Room 1294  \n",
       " 2     PO Box 6462  \n",
       " 3        Room 862  \n",
       " 4        Apt 1949  \n",
       " ..            ...  \n",
       " 995      Room 660  \n",
       " 996      Apt 1331  \n",
       " 997  PO Box 93758  \n",
       " 998  PO Box 29439  \n",
       " 999     Room 1433  \n",
       " \n",
       " [1000 rows x 6 columns],\n",
       " 'MOCK_DATA1':           lexid first_name  last_name          ssn                vin\n",
       " 0    8888090530      Heath   Craufurd  486-95-7376  1FTSX2A51AE389727\n",
       " 1    8888090531       Tani     Bedell  160-67-7547  JN1BJ0HP3EM328006\n",
       " 2    8888090532      Grove   Casaccia  105-41-9826  JTDKDTB38E1671911\n",
       " 3    8888090533       Dena     Dibner  439-64-0448  1G6DH5E55C0557506\n",
       " 4    8888090534     Mariam     Pagden  333-52-1023  WBAUP73578V811268\n",
       " ..          ...        ...        ...          ...                ...\n",
       " 995  8888091525      Berky  Washbrook  264-89-6985  JTDKDTB35D1247973\n",
       " 996  8888091526     Nancie     Grewes  335-72-9079  1GYS3AEF1DR291588\n",
       " 997  8888091527   Natassia      Airth  798-89-0591  SCBGU3ZA8EC583961\n",
       " 998  8888091528     Lawton     Gronno  136-87-7527  NM0GE9F71F1616105\n",
       " 999  8888091529       Jane   Doerffer  589-82-1484  3C4PDCAB4FT856305\n",
       " \n",
       " [1000 rows x 5 columns]}"
      ]
     },
     "execution_count": 11,
     "metadata": {},
     "output_type": "execute_result"
    }
   ],
   "source": [
    "datasets"
   ]
  },
  {
   "cell_type": "code",
   "execution_count": 12,
   "metadata": {},
   "outputs": [],
   "source": [
    "from sdv.metadata import MultiTableMetadata\n",
    "\n",
    "metadata = MultiTableMetadata()"
   ]
  },
  {
   "cell_type": "code",
   "execution_count": 13,
   "metadata": {},
   "outputs": [],
   "source": [
    "metadata.detect_from_csvs(\n",
    "    folder_name='Datasets/'\n",
    ")"
   ]
  },
  {
   "cell_type": "code",
   "execution_count": 14,
   "metadata": {},
   "outputs": [],
   "source": [
    "metadata.update_column(\n",
    "    table_name = \"MOCK_DATA\",\n",
    "    column_name = \"lexid\",\n",
    "    sdtype = \"id\"\n",
    ")"
   ]
  },
  {
   "cell_type": "code",
   "execution_count": 15,
   "metadata": {},
   "outputs": [],
   "source": [
    "metadata.update_column(\n",
    "    table_name = \"MOCK_DATA\",\n",
    "    column_name = \"first_name\",\n",
    "    sdtype = \"name\"\n",
    ")"
   ]
  },
  {
   "cell_type": "code",
   "execution_count": 16,
   "metadata": {},
   "outputs": [],
   "source": [
    "metadata.update_column(\n",
    "    table_name = \"MOCK_DATA\",\n",
    "    column_name = \"last_name\",\n",
    "    sdtype = \"name\"\n",
    ")"
   ]
  },
  {
   "cell_type": "code",
   "execution_count": 17,
   "metadata": {},
   "outputs": [],
   "source": [
    "metadata.update_column(\n",
    "    table_name = \"MOCK_DATA\",\n",
    "    column_name = \"address\",\n",
    "    sdtype = \"address\",\n",
    "    pii = True\n",
    ")"
   ]
  },
  {
   "cell_type": "code",
   "execution_count": 19,
   "metadata": {},
   "outputs": [],
   "source": [
    "metadata.update_column(\n",
    "    table_name = \"MOCK_DATA\",\n",
    "    column_name = \"email\",\n",
    "    sdtype = \"email\",\n",
    "    pii = True\n",
    ")"
   ]
  },
  {
   "cell_type": "code",
   "execution_count": 21,
   "metadata": {},
   "outputs": [],
   "source": [
    "metadata.update_column(\n",
    "    table_name = \"MOCK_DATA1\",\n",
    "    column_name = \"first_name\",\n",
    "    sdtype = \"name\"\n",
    ")"
   ]
  },
  {
   "cell_type": "code",
   "execution_count": 22,
   "metadata": {},
   "outputs": [],
   "source": [
    "metadata.update_column(\n",
    "    table_name = \"MOCK_DATA1\",\n",
    "    column_name = \"last_name\",\n",
    "    sdtype = \"name\"\n",
    ")"
   ]
  },
  {
   "cell_type": "code",
   "execution_count": 23,
   "metadata": {},
   "outputs": [],
   "source": [
    "metadata.update_column(\n",
    "    table_name = \"MOCK_DATA1\",\n",
    "    column_name = \"lexid\",\n",
    "    sdtype = \"id\"\n",
    ")"
   ]
  },
  {
   "cell_type": "code",
   "execution_count": 25,
   "metadata": {},
   "outputs": [],
   "source": [
    "metadata.update_column(\n",
    "    table_name = \"MOCK_DATA1\",\n",
    "    column_name = \"ssn\",\n",
    "    sdtype = \"ssn\",\n",
    "    pii = True\n",
    ")"
   ]
  },
  {
   "cell_type": "code",
   "execution_count": 27,
   "metadata": {},
   "outputs": [],
   "source": [
    "metadata.set_primary_key(\n",
    "    table_name = \"MOCK_DATA\",\n",
    "    column_name = \"lexid\"\n",
    ")"
   ]
  },
  {
   "cell_type": "code",
   "execution_count": 28,
   "metadata": {},
   "outputs": [],
   "source": [
    "metadata.add_relationship(\n",
    "    parent_table_name =\"MOCK_DATA\",\n",
    "    child_table_name = \"MOCK_DATA1\",\n",
    "    child_foreign_key = \"lexid\",\n",
    "    parent_primary_key = \"lexid\"\n",
    ")"
   ]
  },
  {
   "cell_type": "code",
   "execution_count": 31,
   "metadata": {},
   "outputs": [
    {
     "name": "stderr",
     "output_type": "stream",
     "text": [
      "Preprocess Tables: 100%|██████████| 2/2 [00:00<00:00,  2.62it/s]\n"
     ]
    },
    {
     "name": "stdout",
     "output_type": "stream",
     "text": [
      "\n",
      "Learning relationships:\n"
     ]
    },
    {
     "name": "stderr",
     "output_type": "stream",
     "text": [
      "(1/1) Tables 'MOCK_DATA' and 'MOCK_DATA1' ('lexid'): 100%|██████████| 1000/1000 [00:06<00:00, 144.27it/s]\n"
     ]
    },
    {
     "name": "stdout",
     "output_type": "stream",
     "text": [
      "\n"
     ]
    },
    {
     "name": "stderr",
     "output_type": "stream",
     "text": [
      "Modeling Tables: 100%|██████████| 1/1 [00:00<00:00,  6.32it/s]\n"
     ]
    }
   ],
   "source": [
    "from sdv.multi_table import HMASynthesizer\n",
    "\n",
    "synthesizer = HMASynthesizer(metadata)\n",
    "synthesizer.fit(datasets)\n",
    "\n",
    "synthetic_data = synthesizer.sample()"
   ]
  },
  {
   "cell_type": "code",
   "execution_count": 32,
   "metadata": {},
   "outputs": [
    {
     "data": {
      "text/plain": [
       "{'MOCK_DATA':      lexid      first_name          last_name                       email  \\\n",
       " 0        0     Helen Olson        Amanda Howe         kayla30@example.com   \n",
       " 1        1     Brian Grant     Tanya Smith MD         ymurphy@example.com   \n",
       " 2        2  Laura Carrillo      Thomas Palmer   melissasnyder@example.net   \n",
       " 3        3  Catherine Ross    Meredith Harris    waltersjesse@example.org   \n",
       " 4        4    Kiara Miller         John James      larsonruth@example.net   \n",
       " ..     ...             ...                ...                         ...   \n",
       " 995    995  Kimberly House   Jeffery Bradshaw        webberin@example.net   \n",
       " 996    996     Nancy Smith         Casey Bell       parkdavid@example.com   \n",
       " 997    997   Joshua Hanson        Maria Lyons  stacycarpenter@example.net   \n",
       " 998    998   Carlos Flores       Tyler Pierce           roy13@example.com   \n",
       " 999    999   Lori Gonzales  Matthew Carpenter          chad88@example.com   \n",
       " \n",
       "       gender                                            address  \n",
       " 0     Female  6062 Barnett Rapids Apt. 972\\nAlicehaven, IL 2...  \n",
       " 1     Female  4929 Wesley Field Apt. 393\\nSouth Daniellemout...  \n",
       " 2     Female       80150 Daniel Curve\\nColemanborough, WV 86292  \n",
       " 3       Male        87795 Palmer Shoal\\nTaylorborough, VA 96664  \n",
       " 4    Agender             1385 Miller Ford\\nAndrewland, AR 02950  \n",
       " ..       ...                                                ...  \n",
       " 995     Male                   Unit 1246 Box 2234\\nDPO AA 28121  \n",
       " 996     Male                        USS Christian\\nFPO AP 81367  \n",
       " 997   Female           0798 Wesley Drive\\nSouth Derek, GA 19736  \n",
       " 998   Female  926 Heather Prairie Apt. 512\\nKirstenbury, LA ...  \n",
       " 999     Male  8000 Stephenson Stravenue Apt. 483\\nJoshuafurt...  \n",
       " \n",
       " [1000 rows x 6 columns],\n",
       " 'MOCK_DATA1':      lexid        first_name                 last_name          ssn  \\\n",
       " 0        0     James Collins                Jill Costa  833-05-2562   \n",
       " 1        1      Matthew Wood                Monica Cox  471-41-5466   \n",
       " 2        2      Laura Nguyen            Shane Williams  476-61-1287   \n",
       " 3        3      Wesley Lopez              Stephen Cole  151-43-4906   \n",
       " 4        4   Matthew Herrera              Chad Hopkins  045-75-6342   \n",
       " ..     ...               ...                       ...          ...   \n",
       " 995    995       Rita Walker             Marcia Howell  512-08-8955   \n",
       " 996    996     Marisa Orozco  Miss Jennifer Brewer DDS  436-59-5250   \n",
       " 997    997     Joseph Castro               Mary Garcia  885-43-5248   \n",
       " 998    998  Richard Delacruz         Christopher Davis  684-50-1558   \n",
       " 999    999        Tara Bowen              James Robles  163-54-6128   \n",
       " \n",
       "                    vin  \n",
       " 0    W04GY5GV8B1725312  \n",
       " 1    WBAYM1C50DD146124  \n",
       " 2    WUARU98E47N766345  \n",
       " 3    WA1KK98RX9A684499  \n",
       " 4    WVWAA7AJ6CW120517  \n",
       " ..                 ...  \n",
       " 995  WBA4C9C54FG766962  \n",
       " 996  SCBGU3ZA8EC583961  \n",
       " 997  5N1AR2MM0EC282449  \n",
       " 998  1GYFC56289R845043  \n",
       " 999  WBA4C9C54FG766962  \n",
       " \n",
       " [1000 rows x 5 columns]}"
      ]
     },
     "execution_count": 32,
     "metadata": {},
     "output_type": "execute_result"
    }
   ],
   "source": [
    "synthetic_data"
   ]
  },
  {
   "cell_type": "code",
   "execution_count": null,
   "metadata": {},
   "outputs": [],
   "source": []
  }
 ],
 "metadata": {
  "kernelspec": {
   "display_name": "Python 3",
   "language": "python",
   "name": "python3"
  },
  "language_info": {
   "codemirror_mode": {
    "name": "ipython",
    "version": 3
   },
   "file_extension": ".py",
   "mimetype": "text/x-python",
   "name": "python",
   "nbconvert_exporter": "python",
   "pygments_lexer": "ipython3",
   "version": "3.11.0"
  },
  "orig_nbformat": 4
 },
 "nbformat": 4,
 "nbformat_minor": 2
}
